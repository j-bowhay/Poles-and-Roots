{
 "cells": [
  {
   "cell_type": "code",
   "execution_count": 1,
   "metadata": {},
   "outputs": [
    {
     "ename": "ModuleNotFoundError",
     "evalue": "No module named 'sympy'",
     "output_type": "error",
     "traceback": [
      "\u001b[0;31m---------------------------------------------------------------------------\u001b[0m",
      "\u001b[0;31mModuleNotFoundError\u001b[0m                       Traceback (most recent call last)",
      "Cell \u001b[0;32mIn[1], line 1\u001b[0m\n\u001b[0;32m----> 1\u001b[0m \u001b[38;5;28;01mfrom\u001b[39;00m \u001b[38;5;21;01msympy\u001b[39;00m \u001b[38;5;28;01mimport\u001b[39;00m \u001b[38;5;241m*\u001b[39m\n\u001b[1;32m      2\u001b[0m init_printing()\n",
      "\u001b[0;31mModuleNotFoundError\u001b[0m: No module named 'sympy'"
     ]
    }
   ],
   "source": [
    "from sympy import *\n",
    "init_printing()"
   ]
  },
  {
   "cell_type": "code",
   "execution_count": 3,
   "metadata": {},
   "outputs": [],
   "source": [
    "l, y= symbols(\"lambda y\")\n",
    "d = symbols(\"d\", positive=True)\n",
    "n = symbols(\"n\", integer=True, positive=True)"
   ]
  },
  {
   "cell_type": "code",
   "execution_count": 4,
   "metadata": {},
   "outputs": [
    {
     "data": {
      "image/png": "[encoded data removed]",
      "text/latex": [
       "$\\displaystyle \\sqrt{1 - \\frac{\\pi^{2} \\left(2 n + 1\\right)^{2}}{4 d^{2}}}$"
      ],
      "text/plain": [
       "      ___________________\n",
       "     ╱      2          2 \n",
       "    ╱      π ⋅(2⋅n + 1)  \n",
       "   ╱   1 - ───────────── \n",
       "  ╱                2     \n",
       "╲╱              4⋅d      "
      ]
     },
     "metadata": {},
     "output_type": "display_data"
    }
   ],
   "source": [
    "l_ = sqrt(1-(2*n+1)**2*pi**2/(4*d**2))\n",
    "display(l_)"
   ]
  },
  {
   "cell_type": "code",
   "execution_count": 5,
   "metadata": {},
   "outputs": [
    {
     "data": {
      "image/png": "[encoded data removed]",
      "text/latex": [
       "$\\displaystyle 0$"
      ],
      "text/plain": [
       "0"
      ]
     },
     "execution_count": 5,
     "metadata": {},
     "output_type": "execute_result"
    }
   ],
   "source": [
    "cos(sqrt(1-l_**2)*d).simplify()"
   ]
  },
  {
   "cell_type": "code",
   "execution_count": 7,
   "metadata": {},
   "outputs": [
    {
     "data": {
      "image/png": "[encoded data removed]",
      "text/latex": [
       "$\\displaystyle \\frac{1}{2 \\sqrt{1 - \\lambda^{2}} \\cos{\\left(d \\sqrt{1 - \\lambda^{2}} \\right)}}$"
      ],
      "text/plain": [
       "               1                \n",
       "────────────────────────────────\n",
       "     ________    ⎛     ________⎞\n",
       "    ╱      2     ⎜    ╱      2 ⎟\n",
       "2⋅╲╱  1 - λ  ⋅cos⎝d⋅╲╱  1 - λ  ⎠"
      ]
     },
     "metadata": {},
     "output_type": "display_data"
    }
   ],
   "source": [
    "f = 1/(2*sqrt(1-l**2)*cos(sqrt(1-l**2)*d))\n",
    "display(f)"
   ]
  },
  {
   "cell_type": "code",
   "execution_count": 13,
   "metadata": {},
   "outputs": [
    {
     "data": {
      "text/plain": [
       "'(1/2)/(np.sqrt(1 - z**2)*np.cos(d*np.sqrt(1 - z**2)))'"
      ]
     },
     "execution_count": 13,
     "metadata": {},
     "output_type": "execute_result"
    }
   ],
   "source": [
    "from sympy.printing.numpy import NumPyPrinter\n",
    "\n",
    "NumPyPrinter().doprint(f).replace(\"numpy\", \"np\").replace(\"lambda_\",\"z\")"
   ]
  },
  {
   "cell_type": "code",
   "execution_count": 15,
   "metadata": {},
   "outputs": [
    {
     "data": {
      "text/plain": [
       "'-1/2*z*(d*np.sqrt(1 - z**2)*np.sin(d*np.sqrt(1 - z**2)) - np.cos(d*np.sqrt(1 - z**2)))/((1 - z**2)**(3/2)*np.cos(d*np.sqrt(1 - z**2))**2)'"
      ]
     },
     "execution_count": 15,
     "metadata": {},
     "output_type": "execute_result"
    }
   ],
   "source": [
    "NumPyPrinter().doprint(f.diff(l).simplify()).replace(\"numpy\", \"np\").replace(\"lambda_\",\"z\")"
   ]
  },
  {
   "cell_type": "code",
   "execution_count": null,
   "metadata": {},
   "outputs": [],
   "source": []
  }
 ],
 "metadata": {
  "kernelspec": {
   "display_name": "venv",
   "language": "python",
   "name": "python3"
  },
  "language_info": {
   "codemirror_mode": {
    "name": "ipython",
    "version": 3
   },
   "file_extension": ".py",
   "mimetype": "text/x-python",
   "name": "python",
   "nbconvert_exporter": "python",
   "pygments_lexer": "ipython3",
   "version": "3.12.4"
  }
 },
 "nbformat": 4,
 "nbformat_minor": 2
}
