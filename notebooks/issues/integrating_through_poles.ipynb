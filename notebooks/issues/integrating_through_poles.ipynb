{
 "cells": [
  {
   "cell_type": "code",
   "execution_count": 7,
   "metadata": {},
   "outputs": [
    {
     "name": "stderr",
     "output_type": "stream",
     "text": [
      "/tmp/ipykernel_289088/1424333823.py:6: IntegrationWarning: The integral is probably divergent, or slowly convergent.\n",
      "  quad(f, -0.5, 0.3)\n"
     ]
    },
    {
     "data": {
      "text/plain": [
       "(-0.5000000000001872, 4.121147867408581e-13)"
      ]
     },
     "execution_count": 7,
     "metadata": {},
     "output_type": "execute_result"
    }
   ],
   "source": [
    "from scipy.integrate import quad, quad_vec\n",
    "\n",
    "def f(z):\n",
    "    return 1/z\n",
    "\n",
    "quad(f, -0.5, 0.3)"
   ]
  },
  {
   "cell_type": "code",
   "execution_count": 9,
   "metadata": {},
   "outputs": [
    {
     "data": {
      "text/plain": [
       "(-0.5,\n",
       " 42.41128864046715,\n",
       " _Bunch(neval=189, success=False, status=2, message='Target precision could not be reached due to rounding error.', intervals=array([[-6.9388939e-18,  1.0000000e-01],\n",
       "        [-1.0000000e-01, -6.9388939e-18],\n",
       "        [-5.0000000e-01, -3.0000000e-01],\n",
       "        [ 1.0000000e-01,  3.0000000e-01],\n",
       "        [-3.0000000e-01, -1.0000000e-01]]), integrals=array([ 7.71262883, -7.71262883, -0.51082562,  1.09861229, -1.09861229]), errors=array([9.35056037e+00, 9.35056037e+00, 5.67130369e-15, 7.55610251e-14,\n",
       "        7.55610251e-14])))"
      ]
     },
     "execution_count": 9,
     "metadata": {},
     "output_type": "execute_result"
    }
   ],
   "source": [
    "quad_vec(f, -0.5, 0.3, full_output=True)"
   ]
  },
  {
   "cell_type": "code",
   "execution_count": null,
   "metadata": {},
   "outputs": [],
   "source": []
  }
 ],
 "metadata": {
  "kernelspec": {
   "display_name": "venv",
   "language": "python",
   "name": "python3"
  },
  "language_info": {
   "codemirror_mode": {
    "name": "ipython",
    "version": 3
   },
   "file_extension": ".py",
   "mimetype": "text/x-python",
   "name": "python",
   "nbconvert_exporter": "python",
   "pygments_lexer": "ipython3",
   "version": "3.12.3"
  }
 },
 "nbformat": 4,
 "nbformat_minor": 2
}
