{
 "cells": [
  {
   "cell_type": "code",
   "execution_count": 20,
   "metadata": {},
   "outputs": [],
   "source": [
    "import numpy as np\n",
    "import matplotlib.pyplot as plt\n",
    "from poles_roots.aaa import AAA\n",
    "from poles_roots._utils import linspace_on_tri, convert_cart_to_complex"
   ]
  },
  {
   "cell_type": "markdown",
   "metadata": {},
   "source": [
    "For now we only consider right triangle of different sizes."
   ]
  },
  {
   "cell_type": "code",
   "execution_count": 51,
   "metadata": {},
   "outputs": [],
   "source": [
    "side_length = 3\n",
    "\n",
    "points = np.array([[0,0], [side_length, 0], [0, side_length]])\n",
    "\n",
    "def linspace_in_right_triangle(num, side_length):\n",
    "    tmp = np.linspace(0, side_length, num=int(num**0.5))\n",
    "    [xx, yy] = np.meshgrid(tmp, tmp)\n",
    "    mask = xx + yy > 1\n",
    "    xx = xx[~mask]\n",
    "    yy = yy[~mask]\n",
    "    return xx.ravel(), yy.ravel()"
   ]
  },
  {
   "cell_type": "code",
   "execution_count": 60,
   "metadata": {},
   "outputs": [
    {
     "name": "stderr",
     "output_type": "stream",
     "text": [
      "/home/jakeb/development/poles-and-roots/src/poles_roots/aaa.py:197: RuntimeWarning: divide by zero encountered in divide\n",
      "  N = (1 / (pol[:, np.newaxis] - zj)) @ (fj * wj)\n",
      "/home/jakeb/development/poles-and-roots/src/poles_roots/aaa.py:197: RuntimeWarning: invalid value encountered in divide\n",
      "  N = (1 / (pol[:, np.newaxis] - zj)) @ (fj * wj)\n",
      "/home/jakeb/development/poles-and-roots/src/poles_roots/aaa.py:198: RuntimeWarning: divide by zero encountered in divide\n",
      "  Ddiff = -((1 / np.subtract.outer(pol, zj)) ** 2) @ wj\n",
      "/home/jakeb/development/poles-and-roots/src/poles_roots/aaa.py:198: RuntimeWarning: invalid value encountered in divide\n",
      "  Ddiff = -((1 / np.subtract.outer(pol, zj)) ** 2) @ wj\n",
      "/home/jakeb/development/poles-and-roots/src/poles_roots/aaa.py:199: RuntimeWarning: invalid value encountered in divide\n",
      "  res = N / Ddiff\n",
      "/home/jakeb/development/poles-and-roots/src/poles_roots/aaa.py:227: RuntimeWarning: invalid value encountered in divide\n",
      "  ii = np.nonzero(np.abs(res) / Z_distances < cleanup_tol * geometric_mean_of_abs_F)[\n"
     ]
    }
   ],
   "source": [
    "rng = np.random.default_rng()\n",
    "difference = []\n",
    "\n",
    "for _ in range(1000):\n",
    "    # generate random pole\n",
    "    r_pole = rng.uniform(0, side_length)\n",
    "    im_pole = rng.uniform(0, side_length)\n",
    "    if r_pole + im_pole > side_length:\n",
    "        r_pole = side_length - r_pole\n",
    "        im_pole = side_length - im_pole\n",
    "    # of random order\n",
    "    order = rng.integers(1, 15)\n",
    "    \n",
    "    def f(z):\n",
    "        return 1/(z-(r_pole+im_pole*1j))**order\n",
    "    \n",
    "    x, y = linspace_in_right_triangle(2000, side_length)\n",
    "    Z_in = x+y*1j\n",
    "    F_in = f(Z_in)\n",
    "    \n",
    "    n_actual = x.size\n",
    "    \n",
    "    Z = convert_cart_to_complex(linspace_on_tri(points, n_actual))\n",
    "    F = f(Z)\n",
    "    \n",
    "    res_in = AAA(F_in, Z_in)\n",
    "    res = AAA(F, Z)\n",
    "    \n",
    "    difference.append(res.weights.size - res_in.weights.size)"
   ]
  },
  {
   "cell_type": "code",
   "execution_count": 61,
   "metadata": {},
   "outputs": [
    {
     "data": {
      "text/plain": [
       "Text(0.5, 1.0, 'Side length=3')"
      ]
     },
     "execution_count": 61,
     "metadata": {},
     "output_type": "execute_result"
    },
    {
     "data": {
      "image/png": "[encoded data removed]",
      "text/plain": [
       "<Figure size 640x480 with 1 Axes>"
      ]
     },
     "metadata": {},
     "output_type": "display_data"
    }
   ],
   "source": [
    "plt.hist(difference, align=\"left\", bins=range(min(difference), max(difference) + 1, 1))\n",
    "plt.xlabel(\"Iteration saved by sampling in the triangle\")\n",
    "plt.title(f\"Side length={side_length}\")"
   ]
  },
  {
   "cell_type": "code",
   "execution_count": null,
   "metadata": {},
   "outputs": [],
   "source": []
  }
 ],
 "metadata": {
  "kernelspec": {
   "display_name": "venv",
   "language": "python",
   "name": "python3"
  },
  "language_info": {
   "codemirror_mode": {
    "name": "ipython",
    "version": 3
   },
   "file_extension": ".py",
   "mimetype": "text/x-python",
   "name": "python",
   "nbconvert_exporter": "python",
   "pygments_lexer": "ipython3",
   "version": "3.12.3"
  }
 },
 "nbformat": 4,
 "nbformat_minor": 2
}
