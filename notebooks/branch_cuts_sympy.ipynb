{
 "cells": [
  {
   "cell_type": "code",
   "execution_count": 1,
   "metadata": {},
   "outputs": [],
   "source": [
    "from sympy import *\n",
    "init_printing()"
   ]
  },
  {
   "cell_type": "code",
   "execution_count": 2,
   "metadata": {},
   "outputs": [],
   "source": [
    "z = symbols(\"z\")"
   ]
  },
  {
   "cell_type": "code",
   "execution_count": 5,
   "metadata": {},
   "outputs": [
    {
     "data": {
      "image/png": "[encoded data removed]",
      "text/latex": [
       "$\\displaystyle - z + \\sin{\\left(\\sqrt{z^{2} + 1} \\right)}$"
      ],
      "text/plain": [
       "        ⎛   ________⎞\n",
       "        ⎜  ╱  2     ⎟\n",
       "-z + sin⎝╲╱  z  + 1 ⎠"
      ]
     },
     "execution_count": 5,
     "metadata": {},
     "output_type": "execute_result"
    }
   ],
   "source": [
    "f = sin(sqrt(z**2+1)) - z\n",
    "f"
   ]
  },
  {
   "cell_type": "code",
   "execution_count": 6,
   "metadata": {},
   "outputs": [
    {
     "data": {
      "image/png": "[encoded data removed]",
      "text/latex": [
       "$\\displaystyle \\frac{z \\cos{\\left(\\sqrt{z^{2} + 1} \\right)}}{\\sqrt{z^{2} + 1}} - 1$"
      ],
      "text/plain": [
       "     ⎛   ________⎞    \n",
       "     ⎜  ╱  2     ⎟    \n",
       "z⋅cos⎝╲╱  z  + 1 ⎠    \n",
       "────────────────── - 1\n",
       "      ________        \n",
       "     ╱  2             \n",
       "   ╲╱  z  + 1         "
      ]
     },
     "execution_count": 6,
     "metadata": {},
     "output_type": "execute_result"
    }
   ],
   "source": [
    "f.diff(z)"
   ]
  },
  {
   "cell_type": "code",
   "execution_count": 7,
   "metadata": {},
   "outputs": [
    {
     "data": {
      "text/plain": [
       "'z*np.cos(np.sqrt(z**2 + 1))/np.sqrt(z**2 + 1) - 1'"
      ]
     },
     "execution_count": 7,
     "metadata": {},
     "output_type": "execute_result"
    }
   ],
   "source": [
    "from sympy.printing.numpy import NumPyPrinter\n",
    "\n",
    "NumPyPrinter().doprint(f.diff(z)).replace(\"numpy\", \"np\")"
   ]
  },
  {
   "cell_type": "code",
   "execution_count": 9,
   "metadata": {},
   "outputs": [
    {
     "data": {
      "image/png": "[encoded data removed]",
      "text/latex": [
       "$\\displaystyle \\left(- z - \\sin{\\left(\\sqrt{z^{2} + 1} \\right)}\\right) \\left(- z + \\sin{\\left(\\sqrt{z^{2} + 1} \\right)}\\right)$"
      ],
      "text/plain": [
       "⎛        ⎛   ________⎞⎞ ⎛        ⎛   ________⎞⎞\n",
       "⎜        ⎜  ╱  2     ⎟⎟ ⎜        ⎜  ╱  2     ⎟⎟\n",
       "⎝-z - sin⎝╲╱  z  + 1 ⎠⎠⋅⎝-z + sin⎝╲╱  z  + 1 ⎠⎠"
      ]
     },
     "execution_count": 9,
     "metadata": {},
     "output_type": "execute_result"
    }
   ],
   "source": [
    "F = (sin(sqrt(z**2+1)) - z)*(-sin(sqrt(z**2+1)) - z)\n",
    "F"
   ]
  },
  {
   "cell_type": "code",
   "execution_count": 10,
   "metadata": {},
   "outputs": [
    {
     "data": {
      "image/png": "[encoded data removed]",
      "text/latex": [
       "$\\displaystyle \\left(- z - \\sin{\\left(\\sqrt{z^{2} + 1} \\right)}\\right) \\left(\\frac{z \\cos{\\left(\\sqrt{z^{2} + 1} \\right)}}{\\sqrt{z^{2} + 1}} - 1\\right) + \\left(- z + \\sin{\\left(\\sqrt{z^{2} + 1} \\right)}\\right) \\left(- \\frac{z \\cos{\\left(\\sqrt{z^{2} + 1} \\right)}}{\\sqrt{z^{2} + 1}} - 1\\right)$"
      ],
      "text/plain": [
       "                        ⎛     ⎛   ________⎞    ⎞                           ⎛   ↪\n",
       "⎛        ⎛   ________⎞⎞ ⎜     ⎜  ╱  2     ⎟    ⎟   ⎛        ⎛   ________⎞⎞ ⎜   ↪\n",
       "⎜        ⎜  ╱  2     ⎟⎟ ⎜z⋅cos⎝╲╱  z  + 1 ⎠    ⎟   ⎜        ⎜  ╱  2     ⎟⎟ ⎜   ↪\n",
       "⎝-z - sin⎝╲╱  z  + 1 ⎠⎠⋅⎜────────────────── - 1⎟ + ⎝-z + sin⎝╲╱  z  + 1 ⎠⎠⋅⎜-  ↪\n",
       "                        ⎜      ________        ⎟                           ⎜   ↪\n",
       "                        ⎜     ╱  2             ⎟                           ⎜   ↪\n",
       "                        ⎝   ╲╱  z  + 1         ⎠                           ⎝   ↪\n",
       "\n",
       "↪      ⎛   ________⎞    ⎞\n",
       "↪      ⎜  ╱  2     ⎟    ⎟\n",
       "↪ z⋅cos⎝╲╱  z  + 1 ⎠    ⎟\n",
       "↪ ────────────────── - 1⎟\n",
       "↪       ________        ⎟\n",
       "↪      ╱  2             ⎟\n",
       "↪    ╲╱  z  + 1         ⎠"
      ]
     },
     "execution_count": 10,
     "metadata": {},
     "output_type": "execute_result"
    }
   ],
   "source": [
    "F.diff(z)"
   ]
  },
  {
   "cell_type": "code",
   "execution_count": 11,
   "metadata": {},
   "outputs": [
    {
     "data": {
      "text/plain": [
       "'(-z - np.sin(np.sqrt(z**2 + 1)))*(z*np.cos(np.sqrt(z**2 + 1))/np.sqrt(z**2 + 1) - 1) + (-z + np.sin(np.sqrt(z**2 + 1)))*(-z*np.cos(np.sqrt(z**2 + 1))/np.sqrt(z**2 + 1) - 1)'"
      ]
     },
     "execution_count": 11,
     "metadata": {},
     "output_type": "execute_result"
    }
   ],
   "source": [
    "NumPyPrinter().doprint(F.diff(z)).replace(\"numpy\", \"np\")"
   ]
  },
  {
   "cell_type": "code",
   "execution_count": null,
   "metadata": {},
   "outputs": [],
   "source": []
  }
 ],
 "metadata": {
  "kernelspec": {
   "display_name": "venv",
   "language": "python",
   "name": "python3"
  },
  "language_info": {
   "codemirror_mode": {
    "name": "ipython",
    "version": 3
   },
   "file_extension": ".py",
   "mimetype": "text/x-python",
   "name": "python",
   "nbconvert_exporter": "python",
   "pygments_lexer": "ipython3",
   "version": "3.12.4"
  }
 },
 "nbformat": 4,
 "nbformat_minor": 2
}
